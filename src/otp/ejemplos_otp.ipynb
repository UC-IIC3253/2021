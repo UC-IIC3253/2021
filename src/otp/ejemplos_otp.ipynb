{
 "cells": [
  {
   "cell_type": "markdown",
   "id": "b717d98e",
   "metadata": {},
   "source": [
    "# Herramientas para OTP\n",
    "\n",
    "En este notebook presentaremos las funciones utilizadas en clases para decriptar OTP cuando se envían varios mensajes utilizando la misma llave. Estas funciones servirán de apoyo para la Tarea 1, en la que se deberá hacer un ejercicio similar al que se realizó en clases. Por esta razón aquí **no** se presenta el código necesario para llevar a cabo la decriptación."
   ]
  },
  {
   "cell_type": "markdown",
   "id": "ccbaebf9",
   "metadata": {},
   "source": [
    "Comenzamos importando todas las funciones que utilizaremos."
   ]
  },
  {
   "cell_type": "code",
   "execution_count": 16,
   "id": "5ff2f31d",
   "metadata": {},
   "outputs": [],
   "source": [
    "from otp_utils import (\n",
    "    as_integers,\n",
    "    as_binary_strings,\n",
    "    as_binary_string,\n",
    "    print_as_binary,\n",
    "    xor\n",
    ")"
   ]
  },
  {
   "cell_type": "markdown",
   "id": "60cf9542",
   "metadata": {},
   "source": [
    "Definamos un mensaje `m` como `asdf` para ejemplificar el funcionamiento de las funciones."
   ]
  },
  {
   "cell_type": "code",
   "execution_count": 39,
   "id": "ce4d7eca",
   "metadata": {},
   "outputs": [],
   "source": [
    "m = 'asdf'"
   ]
  },
  {
   "cell_type": "markdown",
   "id": "dd1ea971",
   "metadata": {},
   "source": [
    "La función `as_integers` transforma cada caracter de un string a un entero de acuerdo al [código ASCII](https://www.ascii-code.com/)."
   ]
  },
  {
   "cell_type": "code",
   "execution_count": 53,
   "id": "50dc63cb",
   "metadata": {},
   "outputs": [
    {
     "name": "stdout",
     "output_type": "stream",
     "text": [
      "[97, 115, 100, 102]\n"
     ]
    }
   ],
   "source": [
    "print(as_integers(m))"
   ]
  },
  {
   "cell_type": "markdown",
   "id": "1fc3b119",
   "metadata": {},
   "source": [
    "La función `as_binary_strings` entrega lo mismo que `as_integers`, pero representando cada número en binario. Cada número binario se presenta como un string."
   ]
  },
  {
   "cell_type": "code",
   "execution_count": 54,
   "id": "cd9c1ca5",
   "metadata": {},
   "outputs": [
    {
     "name": "stdout",
     "output_type": "stream",
     "text": [
      "['1100001', '1110011', '1100100', '1100110']\n"
     ]
    }
   ],
   "source": [
    "print(as_binary_strings(m))"
   ]
  },
  {
   "cell_type": "markdown",
   "id": "a69e1dfd",
   "metadata": {},
   "source": [
    "**IMPORTANTE** Estaremos utilizando sólo caracteres que, en código ASCII, son menores o iguales a 128, por lo que trabajaremos con números binarios de 7 bits (recordar que `2^7=128`)."
   ]
  },
  {
   "cell_type": "markdown",
   "id": "397c2f76",
   "metadata": {},
   "source": [
    "La función `as_binary_string` lo que hace es simplemente presentar todos los strings binarios que retorna `as_binary_strings` (notar la `s` final), pero concatenados como un solo string"
   ]
  },
  {
   "cell_type": "code",
   "execution_count": 55,
   "id": "0875d481",
   "metadata": {},
   "outputs": [
    {
     "name": "stdout",
     "output_type": "stream",
     "text": [
      "['1100001', '1110011', '1100100', '1100110']\n",
      "1100001111001111001001100110\n"
     ]
    }
   ],
   "source": [
    "print(as_binary_strings(m))\n",
    "print(as_binary_string(m))"
   ]
  },
  {
   "cell_type": "markdown",
   "id": "227d068c",
   "metadata": {},
   "source": [
    "La función `print_as_binary` imprime lo que retorna `as_binary_string`, pero para una cantidad arbitraria de parámetros. Por ejemplo:"
   ]
  },
  {
   "cell_type": "code",
   "execution_count": 56,
   "id": "24e850cf",
   "metadata": {},
   "outputs": [
    {
     "name": "stdout",
     "output_type": "stream",
     "text": [
      "1100001111001111001001100110\n",
      "1100001111001111001001100110\n",
      "1101000110111111011001100001\n",
      "1001001100100110000110110011011001001101010110011\n"
     ]
    }
   ],
   "source": [
    "print_as_binary(m, m, 'hola', 'IIC3253')"
   ]
  },
  {
   "cell_type": "markdown",
   "id": "5727b661",
   "metadata": {},
   "source": [
    "La función `xor` lo que hace es calcular el XOR bit a bit, donde los bits corresponden al resultado que vemos al llamar a `print_as_binary`. Para ejemplificar esto definamos una llave `k` y el mensaje `c`, que es el resultado de encriptar el mensaje `m` con la llave `k` utilizando OTP."
   ]
  },
  {
   "cell_type": "code",
   "execution_count": 63,
   "id": "6c346eda",
   "metadata": {},
   "outputs": [
    {
     "name": "stdout",
     "output_type": "stream",
     "text": [
      "0110001011001001100110110100\n",
      "1100001111001111001001100110\n",
      "1010000100000110101111010010\n"
     ]
    }
   ],
   "source": [
    "k = '1234'\n",
    "c = xor(k, m)\n",
    "print_as_binary(k, m, c)"
   ]
  },
  {
   "cell_type": "markdown",
   "id": "26a4231e",
   "metadata": {},
   "source": [
    "Vemos que la función `xor` funciona como esperamos. Ahora definamos `d` como el resultado de decriptar `c` usando la llave `k`."
   ]
  },
  {
   "cell_type": "code",
   "execution_count": 59,
   "id": "b93eb334",
   "metadata": {},
   "outputs": [],
   "source": [
    "d = xor(k, c)"
   ]
  },
  {
   "cell_type": "markdown",
   "id": "fe6a7e78",
   "metadata": {},
   "source": [
    "Veamos finalmente que el esquema de encriptación está funcionando bien, es decir que `d=m`."
   ]
  },
  {
   "cell_type": "code",
   "execution_count": 60,
   "id": "73ad5bec",
   "metadata": {},
   "outputs": [
    {
     "name": "stdout",
     "output_type": "stream",
     "text": [
      "asdf\n"
     ]
    }
   ],
   "source": [
    "print(d)"
   ]
  },
  {
   "cell_type": "markdown",
   "id": "3f7dd2b8",
   "metadata": {},
   "source": [
    "Felicidad. Podemos verificar otras propiedades, como por ejemplo que el `xor` es nilpotente"
   ]
  },
  {
   "cell_type": "code",
   "execution_count": 61,
   "id": "cdc19428",
   "metadata": {},
   "outputs": [
    {
     "name": "stdout",
     "output_type": "stream",
     "text": [
      "0000000000000000000000000000\n",
      "0000000000000000000000000000\n",
      "0000000000000000000000000000\n"
     ]
    }
   ],
   "source": [
    "print_as_binary(\n",
    "    xor(m, m),\n",
    "    xor(c, c),\n",
    "    xor(k, k)\n",
    ")"
   ]
  },
  {
   "cell_type": "markdown",
   "id": "d19f0b0f",
   "metadata": {},
   "source": [
    "o que el XOR de dos mensajes encriptados con la misma llave es igual al XOR de llos dos mensajes originales"
   ]
  },
  {
   "cell_type": "code",
   "execution_count": 62,
   "id": "685c796c",
   "metadata": {},
   "outputs": [
    {
     "name": "stdout",
     "output_type": "stream",
     "text": [
      "0001001001110000010000000111\n",
      "0001001001110000010000000111\n"
     ]
    }
   ],
   "source": [
    "m2 = 'hola'\n",
    "c2 = xor(k, m2)\n",
    "print_as_binary(xor(m, m2), xor(c, c2))"
   ]
  },
  {
   "cell_type": "markdown",
   "id": "380ba73f",
   "metadata": {},
   "source": [
    "Y con eso tenemos suficiente información como para hacer la tarea.\n",
    "\n",
    "**Happy coding!**"
   ]
  },
  {
   "cell_type": "code",
   "execution_count": null,
   "id": "821d167f",
   "metadata": {},
   "outputs": [],
   "source": []
  }
 ],
 "metadata": {
  "kernelspec": {
   "display_name": "Python 3",
   "language": "python",
   "name": "python3"
  },
  "language_info": {
   "codemirror_mode": {
    "name": "ipython",
    "version": 3
   },
   "file_extension": ".py",
   "mimetype": "text/x-python",
   "name": "python",
   "nbconvert_exporter": "python",
   "pygments_lexer": "ipython3",
   "version": "3.8.6"
  }
 },
 "nbformat": 4,
 "nbformat_minor": 5
}
